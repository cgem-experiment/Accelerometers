{
 "cells": [
  {
   "cell_type": "code",
   "execution_count": 218,
   "id": "8f2db0c5-cdd2-4d14-9f3a-8439677cb30e",
   "metadata": {},
   "outputs": [],
   "source": [
    "import numpy as np\n",
    "import matplotlib.pyplot as plt\n",
    "import pandas as pd"
   ]
  },
  {
   "cell_type": "code",
   "execution_count": 219,
   "id": "18605341-5968-4392-bdfc-85268c792654",
   "metadata": {},
   "outputs": [],
   "source": [
    "def import_24bit_data(fn):\n",
    "    table = pd.read_csv(fn, sep=',', skiprows = 0)\n",
    "    table.columns = np.arange(0,302,1)\n",
    "\n",
    "    data_ch0 = []\n",
    "    data_ch1 = []\n",
    "    data_ch2 = []\n",
    "    for i in range(len(table[0])):\n",
    "        for j in range(100):\n",
    "            if (table[100 + j][i] == 0):\n",
    "                data_ch0.append(table[j][i])\n",
    "            if (table[100 + j][i] == 1):\n",
    "                data_ch1.append(table[j][i])\n",
    "            if (table[100 + j][i] == 2):\n",
    "                data_ch2.append(table[j][i])\n",
    "    clock_ticks = []\n",
    "    for i in range(len(table[200])):\n",
    "        for j in range(100):\n",
    "            clock_ticks.append(table[200+j][i])\n",
    "\n",
    "    \"\"\"\n",
    "    data_ch0 = np.array(data_ch0)\n",
    "    data_ch1 = np.array(data_ch1)\n",
    "    data_ch2 = np.array(data_ch2)\n",
    "    clock_ticks = np.array(clock_ticks)\n",
    "    \"\"\"\n",
    "    times_1 = np.array(table[300])\n",
    "    times_2 = np.array(table[301])\n",
    "\n",
    "    clock_ticks = np.array(clock_ticks)\n",
    "    clock_float = clock_ticks.astype(float)\n",
    "\n",
    "    clock_ticks_diff = []\n",
    "    for i in range(len(clock_ticks) - 1):\n",
    "        diff = clock_float[i+1] - clock_float[i]\n",
    "        if diff > 0:\n",
    "            clock_ticks_diff.append(diff)\n",
    "\n",
    "    clock_rate = 10**6\n",
    "    \n",
    "    clock_ticks_diff = [clock_float[i+1] - clock_float[i] for i in range(len(clock_ticks)-1)]\n",
    "    print(\"NUMBER OF DATA POINTS:\", len(data_ch0))\n",
    "    print(\"MEAN CLOCK TICK DIFF:\", np.mean(clock_ticks_diff))\n",
    "    print(\"MEAN PERIOD:\", np.mean(clock_ticks_diff)/(clock_rate))\n",
    "    print(\"MEAN FREQ (Hz):\", 1/(np.mean(clock_ticks_diff)/(clock_rate)))\n",
    "        \n",
    "    return data_ch0, data_ch1, data_ch2, clock_ticks, times_1, times_2, 1/(np.mean(clock_ticks_diff)/clock_rate)"
   ]
  },
  {
   "cell_type": "code",
   "execution_count": 220,
   "id": "392ad56f-9cfc-4950-adfe-d392d0ee5fa2",
   "metadata": {
    "scrolled": true
   },
   "outputs": [
    {
     "name": "stdout",
     "output_type": "stream",
     "text": [
      "NUMBER OF DATA POINTS: 7567\n",
      "MEAN CLOCK TICK DIFF: 407.02815101986874\n",
      "MEAN PERIOD: 0.00040702815101986874\n",
      "MEAN FREQ (Hz): 2456.8325249601367\n"
     ]
    }
   ],
   "source": [
    "fn = r\"C:\\Users\\natal\\Accelerometer_data\\20250707T174547_cgem_accel\\20250707T174547_FILE0001_cgem_accel.csv\"\n",
    "data_ch0, data_ch1, data_ch2, clock_ticks, times1, times2, mean_freq = import_24bit_data(fn)"
   ]
  },
  {
   "cell_type": "code",
   "execution_count": 221,
   "id": "b97d496a-1a09-431b-9d7d-048fb39ade16",
   "metadata": {},
   "outputs": [],
   "source": [
    "def voltages(data_ch0, data_ch1, data_ch2):\n",
    "    avg0 = np.mean(data_ch0)\n",
    "    avg1 = np.mean(data_ch1)\n",
    "    avg2 = np.mean(data_ch2)\n",
    "\n",
    "    v0 = ((avg0 / (2**24 - 1))*10) - 5\n",
    "    v1 = ((avg1 / (2**24 - 1))*10) - 5\n",
    "    v2 = ((avg2 / (2**24 - 1))*10) - 5\n",
    "\n",
    "    print(\"mean voltage channel 0:\", v0)\n",
    "    print(\"mean voltage channel 1:\", v1)\n",
    "    print(\"mean voltage channel 2:\", v2)\n",
    "    return v0, v1, v2\n",
    "    "
   ]
  },
  {
   "cell_type": "code",
   "execution_count": null,
   "id": "a27501a3-505e-4a8a-85cf-cd924f06f4ff",
   "metadata": {},
   "outputs": [],
   "source": []
  }
 ],
 "metadata": {
  "kernelspec": {
   "display_name": "Python [conda env:base] *",
   "language": "python",
   "name": "conda-base-py"
  },
  "language_info": {
   "codemirror_mode": {
    "name": "ipython",
    "version": 3
   },
   "file_extension": ".py",
   "mimetype": "text/x-python",
   "name": "python",
   "nbconvert_exporter": "python",
   "pygments_lexer": "ipython3",
   "version": "3.12.7"
  }
 },
 "nbformat": 4,
 "nbformat_minor": 5
}
