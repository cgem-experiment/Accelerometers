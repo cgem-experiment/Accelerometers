{
 "cells": [
  {
   "cell_type": "markdown",
   "id": "e490b348-1f4e-4e29-ab21-2424f52068af",
   "metadata": {},
   "source": [
    "I just have this notebook because python is messed up on my laptop and I can only run python in jupyter :("
   ]
  },
  {
   "cell_type": "code",
   "execution_count": 2,
   "id": "a05353a2-77ba-4013-8bca-82b2e6cacd76",
   "metadata": {
    "scrolled": true
   },
   "outputs": [
    {
     "name": "stdin",
     "output_type": "stream",
     "text": [
      "Notes:  flat on lab bench in yz plane\n"
     ]
    },
    {
     "name": "stdout",
     "output_type": "stream",
     "text": [
      " Bind successful. Listening for data...\n",
      "Listening for UDP packets from 10.20.3.3:8 on port 12345...\n",
      "Folder created at  C:\\Users\\natal\\Accelerometer_data\\20250718T161851_cgem_accel\n",
      "No data received within 2 seconds.\n"
     ]
    },
    {
     "ename": "NameError",
     "evalue": "name 'data' is not defined",
     "output_type": "error",
     "traceback": [
      "\u001b[1;31m---------------------------------------------------------------------------\u001b[0m",
      "\u001b[1;31mNameError\u001b[0m                                 Traceback (most recent call last)",
      "File \u001b[1;32m~\\2025_Accelerometer\\Accelerometers\\v2_UDP_Socket.py:138\u001b[0m\n\u001b[0;32m    135\u001b[0m     \u001b[38;5;28mprint\u001b[39m(\u001b[38;5;124m\"\u001b[39m\u001b[38;5;124mNo data received within 2 seconds.\u001b[39m\u001b[38;5;124m\"\u001b[39m)\n\u001b[0;32m    136\u001b[0m \u001b[38;5;66;03m#data, addr = sock.recvfrom(PACKET_SIZE)  # Receive packet\u001b[39;00m\n\u001b[0;32m    137\u001b[0m  \u001b[38;5;66;03m#os.delay(1000)\u001b[39;00m\n\u001b[1;32m--> 138\u001b[0m \u001b[38;5;28mprint\u001b[39m(data, addr)\n\u001b[0;32m    139\u001b[0m \u001b[38;5;28;01mif\u001b[39;00m addr[\u001b[38;5;241m0\u001b[39m] \u001b[38;5;241m==\u001b[39m UDP_IP \u001b[38;5;129;01mand\u001b[39;00m addr[\u001b[38;5;241m1\u001b[39m] \u001b[38;5;241m==\u001b[39m UDP_PORT:\n\u001b[0;32m    140\u001b[0m     data_payload \u001b[38;5;241m=\u001b[39m data[\u001b[38;5;241m0\u001b[39m:]  \u001b[38;5;66;03m# UDP header is removed\u001b[39;00m\n",
      "\u001b[1;31mNameError\u001b[0m: name 'data' is not defined"
     ]
    }
   ],
   "source": [
    "%run v2_UDP_socket.py"
   ]
  },
  {
   "cell_type": "code",
   "execution_count": null,
   "id": "2ace54e4-0ceb-4599-ad27-2cc7122450b3",
   "metadata": {},
   "outputs": [],
   "source": []
  },
  {
   "cell_type": "code",
   "execution_count": null,
   "id": "c040b70b-0061-489b-b98a-2e58f6cd249e",
   "metadata": {},
   "outputs": [],
   "source": []
  },
  {
   "cell_type": "code",
   "execution_count": null,
   "id": "ff200c82-2c73-4603-b0cc-700ac732ba40",
   "metadata": {},
   "outputs": [],
   "source": []
  },
  {
   "cell_type": "code",
   "execution_count": null,
   "id": "eca6e53d-ebfb-4741-95b1-5220d5047bea",
   "metadata": {},
   "outputs": [],
   "source": []
  }
 ],
 "metadata": {
  "kernelspec": {
   "display_name": "Python [conda env:base] *",
   "language": "python",
   "name": "conda-base-py"
  },
  "language_info": {
   "codemirror_mode": {
    "name": "ipython",
    "version": 3
   },
   "file_extension": ".py",
   "mimetype": "text/x-python",
   "name": "python",
   "nbconvert_exporter": "python",
   "pygments_lexer": "ipython3",
   "version": "3.12.7"
  }
 },
 "nbformat": 4,
 "nbformat_minor": 5
}
