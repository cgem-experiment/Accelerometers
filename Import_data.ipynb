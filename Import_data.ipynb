{
 "cells": [
  {
   "cell_type": "code",
   "execution_count": 437,
   "id": "8f2db0c5-cdd2-4d14-9f3a-8439677cb30e",
   "metadata": {},
   "outputs": [],
   "source": [
    "import numpy as np\n",
    "import matplotlib.pyplot as plt\n",
    "import pandas as pd"
   ]
  },
  {
   "cell_type": "code",
   "execution_count": 438,
   "id": "18605341-5968-4392-bdfc-85268c792654",
   "metadata": {},
   "outputs": [],
   "source": [
    "def import_24bit_data(fn):\n",
    "    table = pd.read_csv(fn, sep=',', skiprows = 0)\n",
    "    table.columns = np.arange(0,422,1)\n",
    "    \n",
    "    data_ch0 = []\n",
    "    for i in range(len(table[0])):\n",
    "        for j in range(60):\n",
    "            data_ch0.append(table[j][i])\n",
    "            \n",
    "    data_ch1 = []\n",
    "    for i in range(len(table[60])):\n",
    "        for j in range(60):\n",
    "            data_ch1.append(table[30 + j][i])\n",
    "            \n",
    "    data_ch2 = []\n",
    "    for i in range(len(table[120])):\n",
    "        for j in range(60):\n",
    "            data_ch2.append(table[60 +j][i])\n",
    "            \n",
    "    clock_ticks = []\n",
    "    for i in range(len(table[360])):\n",
    "        for j in range(60):\n",
    "            clock_ticks.append(table[360+j][i])\n",
    "    \n",
    "    data_ch0 = np.array(data_ch0)\n",
    "    data_ch1 = np.array(data_ch1)\n",
    "    data_ch2 = np.array(data_ch2)\n",
    "    clock_ticks = np.array(clock_ticks)\n",
    "    times_1 = np.array(table[420])\n",
    "    times_2 = np.array(table[421])\n",
    "\n",
    "    clock_float = clock_ticks.astype(float)\n",
    "\n",
    "    clock_ticks_diff = []\n",
    "    for i in range(len(clock_ticks) - 1):\n",
    "        diff = clock_float[i+1] - clock_float[i]\n",
    "        if diff > 0:\n",
    "            clock_ticks_diff.append(diff)\n",
    "\n",
    "    clock_rate = 10**6\n",
    "    \n",
    "    #clock_ticks_diff = [clock_float[i+1] - clock_float[i] for i in range(len(clock_ticks)-1)]\n",
    "    print(\"NUMBER OF DATA POINTS:\", len(data_ch1))\n",
    "    print(\"MEAN CLOCK TICK DIFF:\", np.mean(clock_ticks_diff))\n",
    "    print(\"MEAN PERIOD:\", np.mean(clock_ticks_diff)/(clock_rate))\n",
    "    print(\"MEAN FREQ (Hz):\", 1/(np.mean(clock_ticks_diff)/(clock_rate)))\n",
    "        \n",
    "    return data_ch0, data_ch1, data_ch2, clock_ticks, times_1, times_2, 1/(np.mean(clock_ticks_diff)/clock_rate)"
   ]
  },
  {
   "cell_type": "code",
   "execution_count": 439,
   "id": "392ad56f-9cfc-4950-adfe-d392d0ee5fa2",
   "metadata": {},
   "outputs": [
    {
     "name": "stdout",
     "output_type": "stream",
     "text": [
      "NUMBER OF DATA POINTS: 8820\n",
      "MEAN CLOCK TICK DIFF: 2123.7593558630074\n",
      "MEAN PERIOD: 0.0021237593558630073\n",
      "MEAN FREQ (Hz): 470.86314051510874\n"
     ]
    }
   ],
   "source": [
    "fn = r\"C:\\Users\\natal\\Accelerometer_data\\20250704T124402_cgem_accel\\20250704T124402_FILE0001_cgem_accel.csv\"\n",
    "data_ch0, data_ch1, data_ch2, clock_ticks, times1, times2, mean_freq = import_24bit_data(fn)"
   ]
  },
  {
   "cell_type": "code",
   "execution_count": 440,
   "id": "b97d496a-1a09-431b-9d7d-048fb39ade16",
   "metadata": {},
   "outputs": [],
   "source": [
    "def voltages(data_ch0, data_ch1, data_ch2):\n",
    "    avg0 = np.mean(data_ch0)\n",
    "    avg1 = np.mean(data_ch1)\n",
    "    avg2 = np.mean(data_ch2)\n",
    "\n",
    "    v0 = ((avg0 / (2**24 - 1))*10) - 5\n",
    "    v1 = ((avg1 / (2**24 - 1))*10) - 5\n",
    "    v2 = ((avg2 / (2**24 - 1))*10) - 5\n",
    "\n",
    "    print(\"mean voltage channel 0:\", v0)\n",
    "    print(\"mean voltage channel 1:\", v1)\n",
    "    print(\"mean voltage channel 2:\", v2)\n",
    "    return v0, v1, v2\n",
    "    "
   ]
  },
  {
   "cell_type": "code",
   "execution_count": 441,
   "id": "7563f706-5a84-472d-98d0-3c6b0b205c68",
   "metadata": {
    "scrolled": true
   },
   "outputs": [
    {
     "name": "stdout",
     "output_type": "stream",
     "text": [
      "mean voltage channel 0: -0.003025157561661551\n",
      "mean voltage channel 1: -0.0030760096525819236\n",
      "mean voltage channel 2: -0.0031248655284157323\n"
     ]
    }
   ],
   "source": [
    "volts = voltages(data_ch0, data_ch1, data_ch2)"
   ]
  },
  {
   "cell_type": "code",
   "execution_count": 442,
   "id": "5f77609d-3c88-4a64-b75b-3448ee8dda12",
   "metadata": {},
   "outputs": [
    {
     "ename": "SyntaxError",
     "evalue": "incomplete input (899463817.py, line 1)",
     "output_type": "error",
     "traceback": [
      "\u001b[1;36m  Cell \u001b[1;32mIn[442], line 1\u001b[1;36m\u001b[0m\n\u001b[1;33m    \"\"\"\u001b[0m\n\u001b[1;37m    ^\u001b[0m\n\u001b[1;31mSyntaxError\u001b[0m\u001b[1;31m:\u001b[0m incomplete input\n"
     ]
    }
   ],
   "source": [
    "\"\"\"\n",
    "file paths:\n",
    "r\"C:\\Users\\natal\\Accelerometer_data\\20250703T173905_cgem_accel\\20250703T173905_FILE0001_cgem_accel.csv\"\n",
    "r\"C:\\Users\\natal\\Accelerometer_data\\20250704T113129_cgem_accel\\20250704T113129_FILE0001_cgem_accel.csv\""
   ]
  }
 ],
 "metadata": {
  "kernelspec": {
   "display_name": "Python [conda env:base] *",
   "language": "python",
   "name": "conda-base-py"
  },
  "language_info": {
   "codemirror_mode": {
    "name": "ipython",
    "version": 3
   },
   "file_extension": ".py",
   "mimetype": "text/x-python",
   "name": "python",
   "nbconvert_exporter": "python",
   "pygments_lexer": "ipython3",
   "version": "3.12.7"
  }
 },
 "nbformat": 4,
 "nbformat_minor": 5
}
