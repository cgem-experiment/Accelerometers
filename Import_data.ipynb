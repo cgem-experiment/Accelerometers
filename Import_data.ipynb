{
 "cells": [
  {
   "cell_type": "code",
   "execution_count": 68,
   "id": "8f2db0c5-cdd2-4d14-9f3a-8439677cb30e",
   "metadata": {},
   "outputs": [],
   "source": [
    "import numpy as np\n",
    "import matplotlib.pyplot as plt\n",
    "import pandas as pd"
   ]
  },
  {
   "cell_type": "code",
   "execution_count": 69,
   "id": "895b09f2-9929-49a7-984d-6db3966c22b5",
   "metadata": {},
   "outputs": [],
   "source": [
    "def import_24bit_data2(filepath):\n",
    "    # Load the CSV \n",
    "    table = pd.read_csv(filepath, header=None)\n",
    "\n",
    "    # Initialize channel arrays\n",
    "    data_ch0, data_ch1, data_ch2 = [], [], []\n",
    "    status0, status1, status2 = [], [], []\n",
    "\n",
    "    for row in table.itertuples(index=False):\n",
    "        for i in range(30):\n",
    "            data_ch0.append(row[i * 6 + 0])\n",
    "            data_ch1.append(row[i * 6 + 1])\n",
    "            data_ch2.append(row[i * 6 + 2])\n",
    "            status0.append(row[i * 6 + 3])\n",
    "            status1.append(row[i * 6 + 4])\n",
    "            status2.append(row[i * 6 + 5])\n",
    "\n",
    "    # Convert to numpy arrays\n",
    "    data_ch0 = np.array(data_ch0)\n",
    "    data_ch1 = np.array(data_ch1)\n",
    "    data_ch2 = np.array(data_ch2)\n",
    "    status0  = np.array(status0)\n",
    "    status1  = np.array(status1)\n",
    "    status2  = np.array(status2)\n",
    "    \n",
    "    # Timestamps\n",
    "    timestamps_str = table[420].values\n",
    "    timestamps_ns  = table[421].values\n",
    "\n",
    "    # Parse nanosecond clock tick differences\n",
    "    clock_ticks = timestamps_ns\n",
    "    clock_ticks_diff = np.diff(clock_ticks)\n",
    "    mean_dt = np.mean(clock_ticks_diff) / 1e6 if len(clock_ticks_diff) > 0 else 0\n",
    "    mean_freq = 1.0 / mean_dt if mean_dt > 0 else 0\n",
    "\n",
    "    print(\"Imported data:\")\n",
    "    print(\"  Total samples per channel:\", len(data_ch0))\n",
    "\n",
    "    return data_ch0, data_ch1, data_ch2, status0, status1, status2, clock_ticks, timestamps_str, timestamps_ns, mean_freq\n"
   ]
  },
  {
   "cell_type": "code",
   "execution_count": 70,
   "id": "392ad56f-9cfc-4950-adfe-d392d0ee5fa2",
   "metadata": {},
   "outputs": [
    {
     "name": "stdout",
     "output_type": "stream",
     "text": [
      "Imported data:\n",
      "  Total samples per channel: 870\n"
     ]
    }
   ],
   "source": [
    "fn = \"20250620T143839_cgem_accel/20250620T143839_FILE0001_cgem_accel.csv\"\n",
    "data_ch0, data_ch1, data_ch2, status0, status1, status2, clock_ticks, timestamps_str, timestamps_ns, mean_freq = import_24bit_data2(fn)"
   ]
  },
  {
   "cell_type": "code",
   "execution_count": 71,
   "id": "b97d496a-1a09-431b-9d7d-048fb39ade16",
   "metadata": {},
   "outputs": [],
   "source": [
    "def voltages(data_ch0, data_ch1, data_ch2):\n",
    "    avg0 = np.mean(data_ch0)\n",
    "    avg1 = np.mean(data_ch1)\n",
    "    avg2 = np.mean(data_ch2)\n",
    "\n",
    "    v0 = ((avg0 / (2**24 - 1))*10) - 5\n",
    "    v1 = ((avg1 / (2**24 - 1))*10) - 5\n",
    "    v2 = ((avg2 / (2**24 - 1))*10) - 5\n",
    "\n",
    "    print(\"mean voltage channel 0:\", v0)\n",
    "    print(\"mean voltage channel 1:\", v1)\n",
    "    print(\"mean voltage channel 2:\", v2)\n",
    "    return v0, v1, v2\n",
    "    "
   ]
  },
  {
   "cell_type": "code",
   "execution_count": 72,
   "id": "7563f706-5a84-472d-98d0-3c6b0b205c68",
   "metadata": {},
   "outputs": [
    {
     "name": "stdout",
     "output_type": "stream",
     "text": [
      "mean voltage channel 0: -0.003139419989428127\n",
      "mean voltage channel 1: -0.0031252888919972577\n",
      "mean voltage channel 2: -0.003129037818844438\n"
     ]
    }
   ],
   "source": [
    "volts = voltages(data_ch0, data_ch1, data_ch2)"
   ]
  },
  {
   "cell_type": "code",
   "execution_count": null,
   "id": "a19d47e1-4d6f-4b97-862b-c2c21bc7e595",
   "metadata": {},
   "outputs": [],
   "source": []
  }
 ],
 "metadata": {
  "kernelspec": {
   "display_name": "Python [conda env:base] *",
   "language": "python",
   "name": "conda-base-py"
  },
  "language_info": {
   "codemirror_mode": {
    "name": "ipython",
    "version": 3
   },
   "file_extension": ".py",
   "mimetype": "text/x-python",
   "name": "python",
   "nbconvert_exporter": "python",
   "pygments_lexer": "ipython3",
   "version": "3.12.7"
  }
 },
 "nbformat": 4,
 "nbformat_minor": 5
}
