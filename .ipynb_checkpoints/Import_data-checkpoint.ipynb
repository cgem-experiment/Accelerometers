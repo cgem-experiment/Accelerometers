{
 "cells": [
  {
   "cell_type": "code",
   "execution_count": 96,
   "id": "8f2db0c5-cdd2-4d14-9f3a-8439677cb30e",
   "metadata": {},
   "outputs": [],
   "source": [
    "import numpy as np\n",
    "import matplotlib.pyplot as plt\n",
    "import pandas as pd"
   ]
  },
  {
   "cell_type": "code",
   "execution_count": 97,
   "id": "18605341-5968-4392-bdfc-85268c792654",
   "metadata": {},
   "outputs": [],
   "source": [
    "def import_24bit_data(fn):\n",
    "    table = pd.read_csv(fn, sep=',', skiprows = 0)\n",
    "    table.columns = np.arange(0,422,1)\n",
    "    \n",
    "    data_ch0 = []\n",
    "    for i in range(len(table[0])):\n",
    "        for j in range(60):\n",
    "            data_ch0.append(table[j][i])\n",
    "            \n",
    "    data_ch1 = []\n",
    "    for i in range(len(table[60])):\n",
    "        for j in range(60):\n",
    "            data_ch1.append(table[30 + j][i])\n",
    "            \n",
    "    data_ch2 = []\n",
    "    for i in range(len(table[120])):\n",
    "        for j in range(60):\n",
    "            data_ch2.append(table[60 +j][i])\n",
    "            \n",
    "    clock_ticks = []\n",
    "    for i in range(len(table[360])):\n",
    "        for j in range(60):\n",
    "            clock_ticks.append(table[360+j][i])\n",
    "    \n",
    "    data_ch0 = np.array(data_ch0)\n",
    "    data_ch1 = np.array(data_ch1)\n",
    "    data_ch2 = np.array(data_ch2)\n",
    "    clock_ticks = np.array(clock_ticks)\n",
    "    times_1 = np.array(table[420])\n",
    "    times_2 = np.array(table[421])\n",
    "\n",
    "    print(clock_ticks)\n",
    "    print(clock_ticks[1] - clock_ticks[0])\n",
    "    clock_float = clock_ticks.astype(float)\n",
    "    clock_ticks_diff = [clock_float[i+1] - clock_float[i] for i in range(len(clock_ticks)-1)]\n",
    "    print(\"NUMBER OF DATA POINTS:\", len(data_ch1))\n",
    "    print(\"MEAN CLOCK TICK DIFF:\", np.mean(clock_ticks_diff))\n",
    "    print(\"MEAN PERIOD:\", np.mean(clock_ticks_diff)/(275*1e6))\n",
    "    print(\"MEAN FREQ (seconds):\", 1/(np.mean(clock_ticks_diff)/(275*1e6)))\n",
    "        \n",
    "    return data_ch0, data_ch1, data_ch2, clock_ticks, times_1, times_2, 1/(np.mean(clock_ticks_diff)/1e6)"
   ]
  },
  {
   "cell_type": "code",
   "execution_count": 98,
   "id": "895b09f2-9929-49a7-984d-6db3966c22b5",
   "metadata": {},
   "outputs": [],
   "source": [
    "def import_24bit_data2(filepath):\n",
    "    # Load the CSV \n",
    "    table = pd.read_csv(filepath, header=None)\n",
    "\n",
    "    # Initialize channel arrays\n",
    "    data_ch0, data_ch1, data_ch2 = [], [], []\n",
    "    status0, status1, status2 = [], [], []\n",
    "\n",
    "    for row in table.itertuples(index=False):\n",
    "        for i in range(30):\n",
    "            data_ch0.append(row[i * 6 + 0])\n",
    "            data_ch1.append(row[i * 6 + 1])\n",
    "            data_ch2.append(row[i * 6 + 2])\n",
    "            status0.append(row[i * 6 + 3])\n",
    "            status1.append(row[i * 6 + 4])\n",
    "            status2.append(row[i * 6 + 5])\n",
    "\n",
    "    # Convert to numpy arrays\n",
    "    data_ch0 = np.array(data_ch0)\n",
    "    data_ch1 = np.array(data_ch1)\n",
    "    data_ch2 = np.array(data_ch2)\n",
    "    status0  = np.array(status0)\n",
    "    status1  = np.array(status1)\n",
    "    status2  = np.array(status2)\n",
    "    \n",
    "    # Timestamps\n",
    "    timestamps_str = table[420].values\n",
    "    timestamps_ns  = table[421].values\n",
    "\n",
    "    # Parse nanosecond clock tick differences\n",
    "    clock_ticks = timestamps_ns\n",
    "    clock_ticks_diff = np.diff(clock_ticks)\n",
    "    mean_dt = np.mean(clock_ticks_diff) / 1e6 if len(clock_ticks_diff) > 0 else 0\n",
    "    mean_freq = 1.0 / mean_dt if mean_dt > 0 else 0\n",
    "\n",
    "    print(\"Imported data:\")\n",
    "    print(\"  Total samples per channel:\", len(data_ch0))\n",
    "\n",
    "    return data_ch0, data_ch1, data_ch2, status0, status1, status2, clock_ticks, timestamps_str, timestamps_ns, mean_freq\n"
   ]
  },
  {
   "cell_type": "code",
   "execution_count": 99,
   "id": "392ad56f-9cfc-4950-adfe-d392d0ee5fa2",
   "metadata": {},
   "outputs": [
    {
     "name": "stdout",
     "output_type": "stream",
     "text": [
      "[3237313407 3238337407 3239361407 ... 4038282111 4039306111 4040074111]\n",
      "1024000\n",
      "NUMBER OF DATA POINTS: 2520\n",
      "MEAN CLOCK TICK DIFF: 318682.2961492656\n",
      "MEAN PERIOD: 0.0011588447132700568\n",
      "MEAN FREQ (seconds): 3.1379214097654686\n"
     ]
    }
   ],
   "source": [
    "fn = r\"C:\\Users\\natal\\Accelerometer_data\\20250623T154517_cgem_accel\\20250623T154517_FILE0001_cgem_accel.csv\"\n",
    "data_ch0, data_ch1, data_ch2, clock_ticks, times1, times2, mean_freq = import_24bit_data(fn)"
   ]
  },
  {
   "cell_type": "code",
   "execution_count": 100,
   "id": "b97d496a-1a09-431b-9d7d-048fb39ade16",
   "metadata": {},
   "outputs": [],
   "source": [
    "def voltages(data_ch0, data_ch1, data_ch2):\n",
    "    avg0 = np.mean(data_ch0)\n",
    "    avg1 = np.mean(data_ch1)\n",
    "    avg2 = np.mean(data_ch2)\n",
    "\n",
    "    v0 = ((avg0 / (2**24 - 1))*10) - 5\n",
    "    v1 = ((avg1 / (2**24 - 1))*10) - 5\n",
    "    v2 = ((avg2 / (2**24 - 1))*10) - 5\n",
    "\n",
    "    print(\"mean voltage channel 0:\", v0)\n",
    "    print(\"mean voltage channel 1:\", v1)\n",
    "    print(\"mean voltage channel 2:\", v2)\n",
    "    return v0, v1, v2\n",
    "    "
   ]
  },
  {
   "cell_type": "code",
   "execution_count": 101,
   "id": "7563f706-5a84-472d-98d0-3c6b0b205c68",
   "metadata": {},
   "outputs": [
    {
     "name": "stdout",
     "output_type": "stream",
     "text": [
      "mean voltage channel 0: -0.003040183339356517\n",
      "mean voltage channel 1: -0.003087965689521077\n",
      "mean voltage channel 2: -0.00314306427374067\n"
     ]
    }
   ],
   "source": [
    "volts = voltages(data_ch0, data_ch1, data_ch2)"
   ]
  },
  {
   "cell_type": "code",
   "execution_count": null,
   "id": "a19d47e1-4d6f-4b97-862b-c2c21bc7e595",
   "metadata": {},
   "outputs": [],
   "source": []
  }
 ],
 "metadata": {
  "kernelspec": {
   "display_name": "Python [conda env:base] *",
   "language": "python",
   "name": "conda-base-py"
  },
  "language_info": {
   "codemirror_mode": {
    "name": "ipython",
    "version": 3
   },
   "file_extension": ".py",
   "mimetype": "text/x-python",
   "name": "python",
   "nbconvert_exporter": "python",
   "pygments_lexer": "ipython3",
   "version": "3.12.7"
  }
 },
 "nbformat": 4,
 "nbformat_minor": 5
}
